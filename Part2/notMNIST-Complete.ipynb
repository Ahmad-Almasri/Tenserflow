{
 "cells": [
  {
   "cell_type": "markdown",
   "id": "86336486-6935-4bf6-9c5b-b2c964a61e87",
   "metadata": {},
   "source": [
    "#Original Author: Jonathan Hudson\n",
    "#CPSC 501 F22"
   ]
  },
  {
   "cell_type": "code",
   "execution_count": 1,
   "id": "7b9bfed6-8429-453f-8f39-dce64688aaaa",
   "metadata": {},
   "outputs": [
    {
     "name": "stdout",
     "output_type": "stream",
     "text": [
      "--Get data--\n",
      "--Process data--\n"
     ]
    }
   ],
   "source": [
    "import tensorflow as tf\n",
    "import numpy as np\n",
    "import os\n",
    "tf.random.set_seed(1234)\n",
    "\n",
    "print(\"--Get data--\")\n",
    "with np.load(\"notMNIST.npz\", allow_pickle=True) as f:\n",
    "    x_train, y_train = f['x_train'], f['y_train']\n",
    "    x_test, y_test = f['x_test'], f['y_test']\n",
    "\n",
    "print(\"--Process data--\")\n",
    "x_train, x_test = x_train / 255.0, x_test / 255.0\n",
    "\n",
    "x_train = np.expand_dims(x_train, -1)\n",
    "x_test = np.expand_dims(x_test, -1)\n",
    "input_shape = (28, 28, 1)"
   ]
  },
  {
   "cell_type": "code",
   "execution_count": 16,
   "id": "e66f3a9a-202c-4734-82fc-e2fb378979ae",
   "metadata": {},
   "outputs": [
    {
     "name": "stdout",
     "output_type": "stream",
     "text": [
      "--Make model--\n"
     ]
    }
   ],
   "source": [
    "print(\"--Make model--\")\n",
    "model = tf.keras.models.Sequential()\n",
    "model.add(tf.keras.layers.Flatten(input_shape=(28, 28)))\n",
    "model.add(tf.keras.layers.Dense(128, activation='relu'))\n",
    "model.add(tf.keras.layers.Dense(128, activation='relu'))\n",
    "model.add(tf.keras.layers.Dropout(0.30))\n",
    "model.add(tf.keras.layers.Dense(10, activation='softmax'))"
   ]
  },
  {
   "cell_type": "code",
   "execution_count": 17,
   "id": "29e037c3",
   "metadata": {},
   "outputs": [
    {
     "name": "stdout",
     "output_type": "stream",
     "text": [
      "--Fit model--\n",
      "Epoch 1/12\n",
      "1500/1500 - 5s - loss: 0.6274 - accuracy: 0.8157 - 5s/epoch - 3ms/step\n",
      "Epoch 2/12\n",
      "1500/1500 - 4s - loss: 0.4879 - accuracy: 0.8527 - 4s/epoch - 3ms/step\n",
      "Epoch 3/12\n",
      "1500/1500 - 4s - loss: 0.4384 - accuracy: 0.8669 - 4s/epoch - 3ms/step\n",
      "Epoch 4/12\n",
      "1500/1500 - 4s - loss: 0.4029 - accuracy: 0.8757 - 4s/epoch - 3ms/step\n",
      "Epoch 5/12\n",
      "1500/1500 - 4s - loss: 0.3790 - accuracy: 0.8826 - 4s/epoch - 3ms/step\n",
      "Epoch 6/12\n",
      "1500/1500 - 4s - loss: 0.3564 - accuracy: 0.8882 - 4s/epoch - 3ms/step\n",
      "Epoch 7/12\n",
      "1500/1500 - 4s - loss: 0.3357 - accuracy: 0.8935 - 4s/epoch - 3ms/step\n",
      "Epoch 8/12\n",
      "1500/1500 - 4s - loss: 0.3209 - accuracy: 0.8986 - 4s/epoch - 3ms/step\n",
      "Epoch 9/12\n",
      "1500/1500 - 4s - loss: 0.3046 - accuracy: 0.9032 - 4s/epoch - 3ms/step\n",
      "Epoch 10/12\n",
      "1500/1500 - 4s - loss: 0.2934 - accuracy: 0.9056 - 4s/epoch - 3ms/step\n",
      "Epoch 11/12\n",
      "1500/1500 - 4s - loss: 0.2777 - accuracy: 0.9095 - 4s/epoch - 3ms/step\n",
      "Epoch 12/12\n",
      "1500/1500 - 4s - loss: 0.2723 - accuracy: 0.9116 - 4s/epoch - 3ms/step\n"
     ]
    },
    {
     "data": {
      "text/plain": [
       "<keras.callbacks.History at 0x1f223e09600>"
      ]
     },
     "execution_count": 17,
     "metadata": {},
     "output_type": "execute_result"
    }
   ],
   "source": [
    "model.compile(optimizer='adam', loss='sparse_categorical_crossentropy', metrics=['accuracy'])\n",
    "print(\"--Fit model--\")\n",
    "model.fit(x_train, y_train, epochs=12, batch_size = 40, verbose=2)"
   ]
  },
  {
   "cell_type": "code",
   "execution_count": 18,
   "id": "61bd1b60",
   "metadata": {},
   "outputs": [
    {
     "name": "stdout",
     "output_type": "stream",
     "text": [
      "--Evaluate model--\n",
      "1875/1875 - 3s - loss: 0.2175 - accuracy: 0.9278 - 3s/epoch - 2ms/step\n",
      "313/313 - 1s - loss: 0.2224 - accuracy: 0.9405 - 751ms/epoch - 2ms/step\n",
      "Train / Test Accuracy: 92.8% / 94.1%\n"
     ]
    }
   ],
   "source": [
    "print(\"--Evaluate model--\")\n",
    "model_loss1, model_acc1 = model.evaluate(x_train,  y_train, verbose=2)\n",
    "model_loss2, model_acc2 = model.evaluate(x_test,  y_test, verbose=2)\n",
    "print(f\"Train / Test Accuracy: {model_acc1*100:.1f}% / {model_acc2*100:.1f}%\")"
   ]
  },
  {
   "cell_type": "code",
   "execution_count": 19,
   "id": "1182f5c8",
   "metadata": {},
   "outputs": [],
   "source": [
    "model.save('notMNIST2.h5')"
   ]
  },
  {
   "cell_type": "code",
   "execution_count": null,
   "id": "70bb605b",
   "metadata": {},
   "outputs": [],
   "source": []
  }
 ],
 "metadata": {
  "kernelspec": {
   "display_name": "Python 3 (ipykernel)",
   "language": "python",
   "name": "python3"
  },
  "language_info": {
   "codemirror_mode": {
    "name": "ipython",
    "version": 3
   },
   "file_extension": ".py",
   "mimetype": "text/x-python",
   "name": "python",
   "nbconvert_exporter": "python",
   "pygments_lexer": "ipython3",
   "version": "3.10.8"
  }
 },
 "nbformat": 4,
 "nbformat_minor": 5
}
